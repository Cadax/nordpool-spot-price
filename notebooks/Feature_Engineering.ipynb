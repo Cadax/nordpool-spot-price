{
 "cells": [
  {
   "cell_type": "code",
   "execution_count": 90,
   "metadata": {
    "ExecuteTime": {
     "end_time": "2019-02-27T13:13:25.524792Z",
     "start_time": "2019-02-27T13:13:25.517060Z"
    }
   },
   "outputs": [],
   "source": [
    "import pandas as pd\n",
    "import numpy as np\n",
    "combined_df = pd.read_pickle('combined_df.pickle')"
   ]
  },
  {
   "cell_type": "markdown",
   "metadata": {},
   "source": [
    "Get the hour, day and month from Datetime index"
   ]
  },
  {
   "cell_type": "code",
   "execution_count": 91,
   "metadata": {
    "ExecuteTime": {
     "end_time": "2019-02-27T13:13:27.360975Z",
     "start_time": "2019-02-27T13:13:27.327931Z"
    }
   },
   "outputs": [],
   "source": [
    "combined_df['Total Exchange'] = combined_df['FI-EE'] + combined_df['FI-NO'] + combined_df['FI-RU'] + combined_df['FI-SE1'] + combined_df['FI-SE3']\n",
    "combined_df['Finland Temperature'] = combined_df[['Helsinki Temperature','Jyvaskyla Temperature','Rovaniemi Temperature']].mean(axis=1)\n",
    "combined_df['Spot MA'] = combined_df['Spot'].rolling(window=168,center=False).mean().bfill()\n",
    "combined_df['Spot STD'] = combined_df['Spot'].rolling(window=168,center=False).std().bfill()\n",
    "combined_df['Spot T-168'] = combined_df['Spot'].shift(168).bfill()\n",
    "combined_df['Spot T-8760'] = combined_df['Spot'].shift(8760).bfill()\n",
    "combined_df['Spot Rolling Min'] = combined_df['Spot'].rolling(window=168,center=False).min().bfill()\n",
    "combined_df['Spot Rolling Max'] = combined_df['Spot'].rolling(window=168,center=False).max().bfill()"
   ]
  },
  {
   "cell_type": "code",
   "execution_count": 92,
   "metadata": {
    "ExecuteTime": {
     "end_time": "2019-02-27T13:13:29.074271Z",
     "start_time": "2019-02-27T13:13:29.059071Z"
    }
   },
   "outputs": [],
   "source": [
    "combined_df['Hour'] = combined_df.index.hour\n",
    "combined_df['Day'] = combined_df.index.day\n",
    "combined_df['Month'] = combined_df.index.month\n",
    "combined_df['Quarter'] = combined_df.index.quarter"
   ]
  },
  {
   "cell_type": "markdown",
   "metadata": {},
   "source": [
    "Check if datetime in index is a holiday, add 1 if it is and 0 if not."
   ]
  },
  {
   "cell_type": "code",
   "execution_count": 93,
   "metadata": {
    "ExecuteTime": {
     "end_time": "2019-02-27T13:13:54.076518Z",
     "start_time": "2019-02-27T13:13:30.792020Z"
    }
   },
   "outputs": [],
   "source": [
    "import holidays\n",
    "fi_holidays = holidays.CountryHoliday('FI')\n",
    "for day in combined_df.index:\n",
    "    if day in fi_holidays:\n",
    "        combined_df.loc[day,'Holiday'] = 1\n",
    "    else:\n",
    "        combined_df.loc[day,'Holiday'] = 0\n",
    "combined_df['Holiday'] = combined_df['Holiday'].astype('int')"
   ]
  },
  {
   "cell_type": "markdown",
   "metadata": {},
   "source": [
    "Other features\n",
    "* Total Exchange = Sum of all exchanges\n",
    "* Finland Temperature = Average of HEL, JKL and ROV temperatures\n",
    "* Spot MA = One week rolling mean (moving average) of spot price"
   ]
  },
  {
   "cell_type": "code",
   "execution_count": 68,
   "metadata": {
    "ExecuteTime": {
     "end_time": "2019-02-27T10:22:17.114457Z",
     "start_time": "2019-02-27T10:22:17.107687Z"
    }
   },
   "outputs": [
    {
     "data": {
      "text/plain": [
       "Index(['Spot', 'Helsinki Temperature', 'Jyvaskyla Temperature',\n",
       "       'Rovaniemi Temperature', 'Consumption', 'Nuclear Power Production FI',\n",
       "       'Wind Power Production FI', 'FI-EE', 'FI-NO', 'FI-RU', 'FI-SE1',\n",
       "       'FI-SE3', 'Hydro Reservoir NO', 'Hydro Reservoir SE',\n",
       "       'Hydro Reservoir FI', 'Coal', 'Oil', 'Total Exchange',\n",
       "       'Finland Temperature', 'Spot MA', 'Hour', 'Day', 'Month', 'Quarter',\n",
       "       'Holiday'],\n",
       "      dtype='object')"
      ]
     },
     "execution_count": 68,
     "metadata": {},
     "output_type": "execute_result"
    }
   ],
   "source": [
    "combined_df.columns"
   ]
  },
  {
   "cell_type": "code",
   "execution_count": 94,
   "metadata": {
    "ExecuteTime": {
     "end_time": "2019-02-27T13:13:54.143640Z",
     "start_time": "2019-02-27T13:13:54.129438Z"
    }
   },
   "outputs": [],
   "source": [
    "combined_df.to_pickle(\"combined_df_engineered.pickle\")"
   ]
  }
 ],
 "metadata": {
  "hide_input": false,
  "kernelspec": {
   "display_name": "ML env",
   "language": "python",
   "name": "ml"
  },
  "language_info": {
   "codemirror_mode": {
    "name": "ipython",
    "version": 3
   },
   "file_extension": ".py",
   "mimetype": "text/x-python",
   "name": "python",
   "nbconvert_exporter": "python",
   "pygments_lexer": "ipython3",
   "version": "3.6.8"
  },
  "varInspector": {
   "cols": {
    "lenName": 16,
    "lenType": 16,
    "lenVar": 40
   },
   "kernels_config": {
    "python": {
     "delete_cmd_postfix": "",
     "delete_cmd_prefix": "del ",
     "library": "var_list.py",
     "varRefreshCmd": "print(var_dic_list())"
    },
    "r": {
     "delete_cmd_postfix": ") ",
     "delete_cmd_prefix": "rm(",
     "library": "var_list.r",
     "varRefreshCmd": "cat(var_dic_list()) "
    }
   },
   "types_to_exclude": [
    "module",
    "function",
    "builtin_function_or_method",
    "instance",
    "_Feature"
   ],
   "window_display": false
  }
 },
 "nbformat": 4,
 "nbformat_minor": 2
}
