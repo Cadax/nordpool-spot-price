{
 "cells": [
  {
   "cell_type": "code",
   "execution_count": 37,
   "metadata": {},
   "outputs": [],
   "source": [
    "import numpy as np\n",
    "import matplotlib.pyplot as plt\n",
    "import pandas as pd\n",
    "from sklearn.preprocessing import LabelEncoder, MinMaxScaler\n",
    "from sklearn.metrics import mean_squared_error, mean_absolute_error\n",
    "from tensorflow.python.keras.models import Sequential, load_model\n",
    "from tensorflow.python.keras.layers import Dense, CuDNNLSTM, RepeatVector, TimeDistributed, Flatten, Dropout, LSTM\n",
    "from tensorflow.python.keras.optimizers import Adam, SGD, RMSprop\n",
    "from tensorflow.python.keras.callbacks import TensorBoard\n",
    "# https://machinelearningmastery.com/multivariate-time-series-forecasting-lstms-keras/"
   ]
  },
  {
   "cell_type": "markdown",
   "metadata": {},
   "source": [
    "Spot price and all other variables have been combined to one dataframe. The dataframe is loaded from a pickle file. The different variables have values from vastly different ranges, so they need to be normalized. The dataset also needs to be framed as a supervised learning problem. Currently the model will use t-1 timestep to predict timestep t."
   ]
  },
  {
   "cell_type": "code",
   "execution_count": 38,
   "metadata": {},
   "outputs": [
    {
     "name": "stderr",
     "output_type": "stream",
     "text": [
      "/home/joni/.local/lib/python3.6/site-packages/pandas/core/indexes/base.py:3968: FutureWarning: Using a non-tuple sequence for multidimensional indexing is deprecated; use `arr[tuple(seq)]` instead of `arr[seq]`. In the future this will be interpreted as an array index, `arr[np.array(seq)]`, which will result either in an error or a different result.\n",
      "  result = getitem(key)\n"
     ]
    }
   ],
   "source": [
    "# read dataframe from file\n",
    "combined_df = pd.read_pickle('combined_df.pickle')\n",
    "values = combined_df.values\n",
    "variables = values.shape[1] # 17 variables in total\n",
    "labelenc = LabelEncoder()\n",
    "values[:,variables-1] = labelenc.fit_transform(values[:,variables-1])\n",
    "values = values.astype('float64')\n",
    "scaler = MinMaxScaler(feature_range=(-1,1))\n",
    "normvalues = scaler.fit_transform(values)\n",
    "\n",
    "# transform data to a supervised learning problem\n",
    "normdf = pd.DataFrame(data=normvalues)\n",
    "columns, names = list(),list() #n_in = 1 n_out = 1\n",
    "for i in range(1,0,-1): # timesteps as input =  1\n",
    "    columns.append(normdf.shift(i))\n",
    "    names += [(f\"var{j+1}(t-{i})\") for j in range(variables)] # create previous timestep a.k.a t-1 column for all the variables \n",
    "    \n",
    "for i in range(0,1): # timesteps out a.k.a how many hours to predict = 1\n",
    "    columns.append(normdf.shift(-i))\n",
    "    if i == 0:\n",
    "        names += [(f\"var{j+1}(t)\") for j in range(variables)]\n",
    "    else:\n",
    "        names += [(f\"var{j+1}(t-{i})\") for j in range(variables)] # create previous timestep a.k.a t-1 column for all the variables \n",
    "data = pd.concat(columns,axis=1)\n",
    "data.columns = names\n",
    "data.dropna(inplace=True) # t-1 columns have NaN row at index 0\n",
    "data.drop(data.columns[[np.arange(variables+1,variables*2)]],axis=1,inplace=True) # drop all other future columns except the first, which is the spot price\n",
    "all_values = data.values\n",
    "training_range = 365*24*4 # 4 years of training data, 2 years of test\n",
    "train = all_values[:training_range,:]\n",
    "test = all_values[training_range:,:]\n",
    "\n",
    "train_X, train_y = train[:,:-1], train[:,-1]\n",
    "train_X = train_X.reshape((train_X.shape[0],1,train_X.shape[1]))\n",
    "test_X, test_y = test[:,:-1], test[:,-1]\n",
    "test_X = test_X.reshape((test_X.shape[0],1,test_X.shape[1]))"
   ]
  },
  {
   "cell_type": "markdown",
   "metadata": {},
   "source": [
    "Read the best results from hyperparameter optimization script, create LSTM model and use best hyperparameters to train the model"
   ]
  },
  {
   "cell_type": "code",
   "execution_count": 48,
   "metadata": {},
   "outputs": [
    {
     "name": "stdout",
     "output_type": "stream",
     "text": [
      "   index  Unnamed: 0  epochs  neurons  \\\n",
      "0     56          56      20       80   \n",
      "1     86          86      20       80   \n",
      "2     81          81      20       60   \n",
      "\n",
      "                                           optimizer  learning_rate  \\\n",
      "0  <class 'tensorflow.python.keras.optimizers.Adam'>         0.0005   \n",
      "1  <class 'tensorflow.python.keras.optimizers.Adam'>         0.0001   \n",
      "2  <class 'tensorflow.python.keras.optimizers.Adam'>         0.0001   \n",
      "\n",
      "   batch_size      RMSE       MAE  \n",
      "0          24  6.175898  3.608446  \n",
      "1          24  6.173855  3.635865  \n",
      "2          12  6.148628  3.650167  \n"
     ]
    }
   ],
   "source": [
    "hyperparam_df = pd.read_csv('model_result_1.csv')\n",
    "hyperparam_df.sort_values(by='MAE',inplace=True)\n",
    "hyperparam_df.reset_index(inplace=True)\n",
    "print(hyperparam_df.head(3))\n",
    "epochs,neurons,optimizer,learning_rate,batch_size = hyperparam_df.loc[0][['epochs','neurons','optimizer','learning_rate','batch_size']] # get the lowest MAE"
   ]
  },
  {
   "cell_type": "code",
   "execution_count": 42,
   "metadata": {},
   "outputs": [
    {
     "name": "stdout",
     "output_type": "stream",
     "text": [
      "_________________________________________________________________\n",
      "Layer (type)                 Output Shape              Param #   \n",
      "=================================================================\n",
      "cu_dnnlstm_2 (CuDNNLSTM)     (None, 200)               175200    \n",
      "_________________________________________________________________\n",
      "dense_2 (Dense)              (None, 1)                 201       \n",
      "=================================================================\n",
      "Total params: 175,401\n",
      "Trainable params: 175,401\n",
      "Non-trainable params: 0\n",
      "_________________________________________________________________\n",
      "None\n",
      "Train on 35040 samples, validate on 17542 samples\n",
      "Epoch 1/20\n",
      "35040/35040 [==============================] - 14s 413us/step - loss: 0.0093 - val_loss: 0.0154\n",
      "Epoch 2/20\n",
      "35040/35040 [==============================] - 7s 208us/step - loss: 0.0035 - val_loss: 0.0074\n",
      "Epoch 3/20\n",
      "35040/35040 [==============================] - 7s 208us/step - loss: 0.0025 - val_loss: 0.0027\n",
      "Epoch 4/20\n",
      "35040/35040 [==============================] - 7s 206us/step - loss: 0.0022 - val_loss: 0.0027\n",
      "Epoch 5/20\n",
      "35040/35040 [==============================] - 7s 210us/step - loss: 0.0022 - val_loss: 0.0029\n",
      "Epoch 6/20\n",
      "35040/35040 [==============================] - 7s 212us/step - loss: 0.0021 - val_loss: 0.0024\n",
      "Epoch 7/20\n",
      "35040/35040 [==============================] - 7s 213us/step - loss: 0.0021 - val_loss: 0.0024\n",
      "Epoch 8/20\n",
      "35040/35040 [==============================] - 7s 210us/step - loss: 0.0021 - val_loss: 0.0027\n",
      "Epoch 9/20\n",
      "35040/35040 [==============================] - 7s 211us/step - loss: 0.0021 - val_loss: 0.0027\n",
      "Epoch 10/20\n",
      "35040/35040 [==============================] - 7s 209us/step - loss: 0.0021 - val_loss: 0.0025\n",
      "Epoch 11/20\n",
      "35040/35040 [==============================] - 7s 200us/step - loss: 0.0021 - val_loss: 0.0024\n",
      "Epoch 12/20\n",
      "35040/35040 [==============================] - 7s 196us/step - loss: 0.0021 - val_loss: 0.0024\n",
      "Epoch 13/20\n",
      "35040/35040 [==============================] - 7s 194us/step - loss: 0.0021 - val_loss: 0.0025\n",
      "Epoch 14/20\n",
      "35040/35040 [==============================] - 7s 197us/step - loss: 0.0020 - val_loss: 0.0026\n",
      "Epoch 15/20\n",
      "35040/35040 [==============================] - 7s 196us/step - loss: 0.0020 - val_loss: 0.0026\n",
      "Epoch 16/20\n",
      "35040/35040 [==============================] - 7s 197us/step - loss: 0.0020 - val_loss: 0.0025\n",
      "Epoch 17/20\n",
      "35040/35040 [==============================] - 7s 195us/step - loss: 0.0020 - val_loss: 0.0025\n",
      "Epoch 18/20\n",
      "35040/35040 [==============================] - 7s 196us/step - loss: 0.0020 - val_loss: 0.0024\n",
      "Epoch 19/20\n",
      "35040/35040 [==============================] - 7s 198us/step - loss: 0.0020 - val_loss: 0.0025\n",
      "Epoch 20/20\n",
      "35040/35040 [==============================] - 7s 212us/step - loss: 0.0020 - val_loss: 0.0025\n"
     ]
    },
    {
     "data": {
      "text/plain": [
       "<tensorflow.python.keras.callbacks.History at 0x7f20d8ecc2b0>"
      ]
     },
     "execution_count": 42,
     "metadata": {},
     "output_type": "execute_result"
    }
   ],
   "source": [
    "model = Sequential()\n",
    "model.add(CuDNNLSTM(200,input_shape=(train_X.shape[1],train_X.shape[2])))\n",
    "model.add(Dense(1))\n",
    "print(model.summary())\n",
    "opt = Adam(lr=learning_rate)\n",
    "model.compile(loss='mse',optimizer=opt)\n",
    "tensorboard = TensorBoard(log_dir='./logs',histogram_freq=0,write_graph=True,write_images=False)\n",
    "model.fit(train_X,\n",
    "          train_y,\n",
    "          epochs=epochs,\n",
    "          batch_size=batch_size,\n",
    "          verbose=1,\n",
    "          validation_data=(test_X,test_y),\n",
    "          shuffle=False,\n",
    "          callbacks=[tensorboard])"
   ]
  },
  {
   "cell_type": "markdown",
   "metadata": {},
   "source": [
    "Predict with model and convert the normalized prediction back to real value"
   ]
  },
  {
   "cell_type": "code",
   "execution_count": 44,
   "metadata": {},
   "outputs": [
    {
     "name": "stdout",
     "output_type": "stream",
     "text": [
      "Test RMSE: 6.380538849392746\n",
      "Test MAE: 3.8751546950285545\n"
     ]
    }
   ],
   "source": [
    "# forecast\n",
    "y_hat = model.predict(test_X)\n",
    "test_X_reshaped = test_X.reshape((test_X.shape[0], test_X.shape[2]))\n",
    "inverted_y_hat = np.concatenate((y_hat,test_X_reshaped[:,1:]),axis=1)\n",
    "inverted_y_hat = scaler.inverse_transform(inverted_y_hat)\n",
    "inverted_y_hat = inverted_y_hat[:,0]\n",
    "\n",
    "# actual\n",
    "test_y_reshaped = test_y.reshape((len(test_y),1))\n",
    "inverted_y = np.concatenate((test_y_reshaped,test_X_reshaped[:,1:]), axis=1)\n",
    "inverted_y = scaler.inverse_transform(inverted_y)\n",
    "inverted_y = inverted_y[:,0]\n",
    "\n",
    "# RMSE\n",
    "rmse = np.sqrt(mean_squared_error(inverted_y,inverted_y_hat))\n",
    "print(f\"Test RMSE: {rmse}\")\n",
    "\n",
    "# MAE\n",
    "mae = mean_absolute_error(inverted_y,inverted_y_hat)\n",
    "print(f\"Test MAE: {mae}\")"
   ]
  },
  {
   "cell_type": "code",
   "execution_count": 63,
   "metadata": {},
   "outputs": [
    {
     "data": {
      "text/plain": [
       "<matplotlib.axes._subplots.AxesSubplot at 0x7f20641e4668>"
      ]
     },
     "execution_count": 63,
     "metadata": {},
     "output_type": "execute_result"
    },
    {
     "data": {
      "image/png": "[encoded data removed]",
      "text/plain": [
       "<Figure size 1008x432 with 1 Axes>"
      ]
     },
     "metadata": {
      "needs_background": "light"
     },
     "output_type": "display_data"
    }
   ],
   "source": [
    "matplot_df = pd.DataFrame(columns=['Actual','Forecast'])\n",
    "matplot_df['Actual'] = inverted_y\n",
    "matplot_df['Forecast'] = inverted_y_hat\n",
    "matplot_df[:100].plot(figsize=(14,6))"
   ]
  }
 ],
 "metadata": {
  "kernelspec": {
   "display_name": "Python 3",
   "language": "python",
   "name": "python3"
  },
  "language_info": {
   "codemirror_mode": {
    "name": "ipython",
    "version": 3
   },
   "file_extension": ".py",
   "mimetype": "text/x-python",
   "name": "python",
   "nbconvert_exporter": "python",
   "pygments_lexer": "ipython3",
   "version": "3.6.7"
  }
 },
 "nbformat": 4,
 "nbformat_minor": 2
}
